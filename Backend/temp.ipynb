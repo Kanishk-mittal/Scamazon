{
 "cells": [
  {
   "cell_type": "code",
   "execution_count": 7,
   "metadata": {},
   "outputs": [],
   "source": [
    "# main.py\n",
    "\n",
    "from sellers import sellers\n",
    "\n",
    "# Create an instance of the sellers class\n",
    "seller = sellers(\n",
    "    seller_id='S001',\n",
    "    proprietor_name='John Doe',\n",
    "    shop_name='John\\'s Shop',\n",
    "    email='john@example.com',\n",
    "    password='password123',\n",
    "    username='johndoe',\n",
    "    contact='1234567890',\n",
    "    address='123 Main Street',\n",
    "    GSTIN='123456789012345',\n",
    "    rating=4.5\n",
    ")\n"
   ]
  }
 ],
 "metadata": {
  "kernelspec": {
   "display_name": "base",
   "language": "python",
   "name": "python3"
  },
  "language_info": {
   "codemirror_mode": {
    "name": "ipython",
    "version": 3
   },
   "file_extension": ".py",
   "mimetype": "text/x-python",
   "name": "python",
   "nbconvert_exporter": "python",
   "pygments_lexer": "ipython3",
   "version": "3.12.4"
  }
 },
 "nbformat": 4,
 "nbformat_minor": 2
}
